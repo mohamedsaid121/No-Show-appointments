{
 "cells": [
  {
   "cell_type": "markdown",
   "metadata": {},
   "source": [
    "> **Tip**: Welcome to the Investigate a Dataset project! You will find tips in quoted sections like this to help organize your approach to your investigation. Once you complete this project, remove these **Tip** sections from your report before submission. First things first, you might want to double-click this Markdown cell and change the title so that it reflects your dataset and investigation.\n",
    "\n",
    "# Project: No-show appointments Data analysis\n",
    "\n",
    "## Table of Contents\n",
    "<ul>\n",
    "<li><a href=\"#intro\">Introduction</a></li>\n",
    "<li><a href=\"#wrangling\">Data Wrangling</a></li>\n",
    "<li><a href=\"#eda\">Exploratory Data Analysis</a></li>\n",
    "<li><a href=\"#conclusions\">Conclusions</a></li>\n",
    "</ul>"
   ]
  },
  {
   "cell_type": "markdown",
   "metadata": {},
   "source": [
    "<a id='intro'></a>\n",
    "## Introduction\n",
    "\n",
    "### Dataset Description \n",
    "\n",
    "In this project, we will analyzing data that collected from 100k medical appointments in Brazil and is focused on the question\n",
    "of whether or not patients show up for their appointment. In particular we will search for reasons or factors that affect patients in order to show up or not\n",
    "\n",
    "\n",
    "### Question(s) for Analysis\n",
    "\n",
    "\n"
   ]
  },
  {
   "cell_type": "code",
   "execution_count": 2,
   "metadata": {},
   "outputs": [],
   "source": [
    "import numpy as np\n",
    "import pandas as pd\n",
    "import matplotlib.pyplot as plt\n",
    "import seaborn as sns\n",
    "%matplotlib inline"
   ]
  },
  {
   "cell_type": "code",
   "execution_count": 3,
   "metadata": {},
   "outputs": [
    {
     "name": "stdout",
     "output_type": "stream",
     "text": [
      "Collecting pandas==0.25.0\n",
      "  Downloading pandas-0.25.0-cp37-cp37m-win_amd64.whl (9.2 MB)\n",
      "Requirement already satisfied: pytz>=2017.2 in c:\\users\\carnival\\anaconda3\\lib\\site-packages (from pandas==0.25.0) (2021.1)\n",
      "Requirement already satisfied: python-dateutil>=2.6.1 in c:\\users\\carnival\\anaconda3\\lib\\site-packages (from pandas==0.25.0) (2.8.2)\n",
      "Requirement already satisfied: numpy>=1.13.3 in c:\\users\\carnival\\anaconda3\\lib\\site-packages (from pandas==0.25.0) (1.20.3)\n",
      "Requirement already satisfied: six>=1.5 in c:\\users\\carnival\\anaconda3\\lib\\site-packages (from python-dateutil>=2.6.1->pandas==0.25.0) (1.16.0)\n",
      "Installing collected packages: pandas\n",
      "  Attempting uninstall: pandas\n",
      "    Found existing installation: pandas 1.3.2\n",
      "    Uninstalling pandas-1.3.2:\n",
      "      Successfully uninstalled pandas-1.3.2\n"
     ]
    },
    {
     "name": "stderr",
     "output_type": "stream",
     "text": [
      "ERROR: Could not install packages due to an OSError: [WinError 5] Access is denied: 'c:\\\\users\\\\carnival\\\\anaconda3\\\\lib\\\\site-packages\\\\~andas\\\\_libs\\\\algos.cp37-win_amd64.pyd'\n",
      "Consider using the `--user` option or check the permissions.\n",
      "\n"
     ]
    }
   ],
   "source": [
    "# Upgrade pandas to use dataframe.explode() function. \n",
    "!pip install --upgrade pandas==0.25.0"
   ]
  },
  {
   "cell_type": "code",
   "execution_count": 8,
   "metadata": {},
   "outputs": [
    {
     "name": "stdout",
     "output_type": "stream",
     "text": [
      "Collecting package metadata (current_repodata.json): ...working... done\n",
      "Solving environment: ...working... done\n",
      "\n",
      "## Package Plan ##\n",
      "\n",
      "  environment location: C:\\Users\\Carnival\\Anaconda3\n",
      "\n",
      "  added / updated specs:\n",
      "    - pandas\n",
      "\n",
      "\n",
      "The following packages will be downloaded:\n",
      "\n",
      "    package                    |            build\n",
      "    ---------------------------|-----------------\n",
      "    ca-certificates-2021.9.30  |       haa95532_1         116 KB\n",
      "    cryptography-3.4.8         |   py37h71e12ea_0         634 KB\n",
      "    decorator-5.1.0            |     pyhd3eb1b0_0          14 KB\n",
      "    flask-2.0.1                |     pyhd3eb1b0_0          78 KB\n",
      "    ipykernel-6.4.1            |   py37haa95532_1         191 KB\n",
      "    jupyter_core-4.8.1         |   py37haa95532_0          90 KB\n",
      "    jupyterlab_server-2.8.2    |     pyhd3eb1b0_0          46 KB\n",
      "    networkx-2.6.3             |     pyhd3eb1b0_0         1.3 MB\n",
      "    nltk-3.6.3                 |     pyhd3eb1b0_0         991 KB\n",
      "    openpyxl-3.0.9             |     pyhd3eb1b0_0         164 KB\n",
      "    pandas-1.3.3               |   py37h6214cd6_0         8.4 MB\n",
      "    patsy-0.5.2                |   py37haa95532_0         273 KB\n",
      "    pip-21.2.4                 |   py37haa95532_0         1.8 MB\n",
      "    prompt-toolkit-3.0.20      |     pyhd3eb1b0_0         259 KB\n",
      "    prompt_toolkit-3.0.20      |       hd3eb1b0_0          12 KB\n",
      "    pytz-2021.3                |     pyhd3eb1b0_0         171 KB\n",
      "    urllib3-1.26.7             |     pyhd3eb1b0_0         111 KB\n",
      "    wincertstore-0.2           |   py37haa95532_2          15 KB\n",
      "    zipp-3.6.0                 |     pyhd3eb1b0_0          17 KB\n",
      "    ------------------------------------------------------------\n",
      "                                           Total:        14.6 MB\n",
      "\n",
      "The following packages will be UPDATED:\n",
      "\n",
      "  ca-certificates                       2021.7.5-haa95532_1 --> 2021.9.30-haa95532_1\n",
      "  cryptography                         3.4.7-py37h71e12ea_0 --> 3.4.8-py37h71e12ea_0\n",
      "  decorator                              5.0.9-pyhd3eb1b0_0 --> 5.1.0-pyhd3eb1b0_0\n",
      "  flask                                  1.1.2-pyhd3eb1b0_0 --> 2.0.1-pyhd3eb1b0_0\n",
      "  ipykernel                            6.2.0-py37haa95532_1 --> 6.4.1-py37haa95532_1\n",
      "  jupyter_core                         4.7.1-py37haa95532_0 --> 4.8.1-py37haa95532_0\n",
      "  jupyterlab_server                      2.8.1-pyhd3eb1b0_0 --> 2.8.2-pyhd3eb1b0_0\n",
      "  networkx                               2.6.2-pyhd3eb1b0_0 --> 2.6.3-pyhd3eb1b0_0\n",
      "  nltk                                   3.6.2-pyhd3eb1b0_0 --> 3.6.3-pyhd3eb1b0_0\n",
      "  openpyxl                               3.0.7-pyhd3eb1b0_0 --> 3.0.9-pyhd3eb1b0_0\n",
      "  pandas                               1.3.2-py37h6214cd6_0 --> 1.3.3-py37h6214cd6_0\n",
      "  patsy                                        0.5.1-py37_0 --> 0.5.2-py37haa95532_0\n",
      "  pip                                 21.0.1-py37haa95532_0 --> 21.2.4-py37haa95532_0\n",
      "  prompt-toolkit                        3.0.17-pyhca03da5_0 --> 3.0.20-pyhd3eb1b0_0\n",
      "  prompt_toolkit                          3.0.17-hd3eb1b0_0 --> 3.0.20-hd3eb1b0_0\n",
      "  pytz                                  2021.1-pyhd3eb1b0_0 --> 2021.3-pyhd3eb1b0_0\n",
      "  urllib3                               1.26.6-pyhd3eb1b0_1 --> 1.26.7-pyhd3eb1b0_0\n",
      "  wincertstore                                   0.2-py37_0 --> 0.2-py37haa95532_2\n",
      "  zipp                                   3.5.0-pyhd3eb1b0_0 --> 3.6.0-pyhd3eb1b0_0\n",
      "\n",
      "\n",
      "\n",
      "Downloading and Extracting Packages\n",
      "\n",
      "cryptography-3.4.8   | 634 KB    |            |   0% \n",
      "cryptography-3.4.8   | 634 KB    | 2          |   3% \n",
      "cryptography-3.4.8   | 634 KB    | #7         |  18% \n",
      "cryptography-3.4.8   | 634 KB    | ###7       |  38% \n",
      "cryptography-3.4.8   | 634 KB    | ######3    |  63% \n",
      "cryptography-3.4.8   | 634 KB    | ########3  |  83% \n",
      "cryptography-3.4.8   | 634 KB    | ########## | 100% \n",
      "Note: you may need to restart the kernel to use updated packages.\n",
      "\n",
      "\n",
      "pytz-2021.3          | 171 KB    |            |   0% \n",
      "pytz-2021.3          | 171 KB    | #8         |  19% \n",
      "pytz-2021.3          | 171 KB    | ########## | 100% \n",
      "pytz-2021.3          | 171 KB    | ########## | 100% \n",
      "\n",
      "openpyxl-3.0.9       | 164 KB    |            |   0% \n",
      "openpyxl-3.0.9       | 164 KB    | #9         |  20% \n",
      "openpyxl-3.0.9       | 164 KB    | #######8   |  78% \n",
      "openpyxl-3.0.9       | 164 KB    | ########## | 100% \n",
      "\n",
      "ipykernel-6.4.1      | 191 KB    |            |   0% \n",
      "ipykernel-6.4.1      | 191 KB    | #6         |  17% \n",
      "ipykernel-6.4.1      | 191 KB    | #########1 |  92% \n",
      "ipykernel-6.4.1      | 191 KB    | ########## | 100% \n",
      "\n",
      "decorator-5.1.0      | 14 KB     |            |   0% \n",
      "decorator-5.1.0      | 14 KB     | ########## | 100% \n",
      "decorator-5.1.0      | 14 KB     | ########## | 100% \n",
      "\n",
      "networkx-2.6.3       | 1.3 MB    |            |   0% \n",
      "networkx-2.6.3       | 1.3 MB    | 3          |   4% \n",
      "networkx-2.6.3       | 1.3 MB    | #5         |  16% \n",
      "networkx-2.6.3       | 1.3 MB    | ##8        |  28% \n",
      "networkx-2.6.3       | 1.3 MB    | ####       |  40% \n",
      "networkx-2.6.3       | 1.3 MB    | #####1     |  51% \n",
      "networkx-2.6.3       | 1.3 MB    | ######3    |  63% \n",
      "networkx-2.6.3       | 1.3 MB    | #######4   |  74% \n",
      "networkx-2.6.3       | 1.3 MB    | ########4  |  84% \n",
      "networkx-2.6.3       | 1.3 MB    | #########6 |  96% \n",
      "networkx-2.6.3       | 1.3 MB    | ########## | 100% \n",
      "\n",
      "nltk-3.6.3           | 991 KB    |            |   0% \n",
      "nltk-3.6.3           | 991 KB    | 3          |   3% \n",
      "nltk-3.6.3           | 991 KB    | #9         |  19% \n",
      "nltk-3.6.3           | 991 KB    | ###        |  31% \n",
      "nltk-3.6.3           | 991 KB    | ####6      |  47% \n",
      "nltk-3.6.3           | 991 KB    | #####9     |  60% \n",
      "nltk-3.6.3           | 991 KB    | #######5   |  76% \n",
      "nltk-3.6.3           | 991 KB    | #########  |  90% \n",
      "nltk-3.6.3           | 991 KB    | ########## | 100% \n",
      "\n",
      "prompt-toolkit-3.0.2 | 259 KB    |            |   0% \n",
      "prompt-toolkit-3.0.2 | 259 KB    | #8         |  19% \n",
      "prompt-toolkit-3.0.2 | 259 KB    | #####5     |  56% \n",
      "prompt-toolkit-3.0.2 | 259 KB    | ########## | 100% \n",
      "prompt-toolkit-3.0.2 | 259 KB    | ########## | 100% \n",
      "\n",
      "patsy-0.5.2          | 273 KB    |            |   0% \n",
      "patsy-0.5.2          | 273 KB    | 5          |   6% \n",
      "patsy-0.5.2          | 273 KB    | #####8     |  59% \n",
      "patsy-0.5.2          | 273 KB    | ########## | 100% \n",
      "patsy-0.5.2          | 273 KB    | ########## | 100% \n",
      "\n",
      "jupyter_core-4.8.1   | 90 KB     |            |   0% \n",
      "jupyter_core-4.8.1   | 90 KB     | ###5       |  35% \n",
      "jupyter_core-4.8.1   | 90 KB     | ########## | 100% \n",
      "jupyter_core-4.8.1   | 90 KB     | ########## | 100% \n",
      "\n",
      "prompt_toolkit-3.0.2 | 12 KB     |            |   0% \n",
      "prompt_toolkit-3.0.2 | 12 KB     | ########## | 100% \n",
      "prompt_toolkit-3.0.2 | 12 KB     | ########## | 100% \n",
      "\n",
      "pip-21.2.4           | 1.8 MB    |            |   0% \n",
      "pip-21.2.4           | 1.8 MB    | 1          |   2% \n",
      "pip-21.2.4           | 1.8 MB    | 6          |   7% \n",
      "pip-21.2.4           | 1.8 MB    | #6         |  16% \n",
      "pip-21.2.4           | 1.8 MB    | ##3        |  23% \n",
      "pip-21.2.4           | 1.8 MB    | ###2       |  33% \n",
      "pip-21.2.4           | 1.8 MB    | ###9       |  40% \n",
      "pip-21.2.4           | 1.8 MB    | ####9      |  49% \n",
      "pip-21.2.4           | 1.8 MB    | #####6     |  57% \n",
      "pip-21.2.4           | 1.8 MB    | ######5    |  66% \n",
      "pip-21.2.4           | 1.8 MB    | #######3   |  73% \n",
      "pip-21.2.4           | 1.8 MB    | ########1  |  82% \n",
      "pip-21.2.4           | 1.8 MB    | ########9  |  90% \n",
      "pip-21.2.4           | 1.8 MB    | #########8 |  98% \n",
      "pip-21.2.4           | 1.8 MB    | ########## | 100% \n",
      "\n",
      "wincertstore-0.2     | 15 KB     |            |   0% \n",
      "wincertstore-0.2     | 15 KB     | ########## | 100% \n",
      "wincertstore-0.2     | 15 KB     | ########## | 100% \n",
      "\n",
      "zipp-3.6.0           | 17 KB     |            |   0% \n",
      "zipp-3.6.0           | 17 KB     | ########## | 100% \n",
      "zipp-3.6.0           | 17 KB     | ########## | 100% \n",
      "\n",
      "urllib3-1.26.7       | 111 KB    |            |   0% \n",
      "urllib3-1.26.7       | 111 KB    | ####3      |  43% \n",
      "urllib3-1.26.7       | 111 KB    | ########## | 100% \n",
      "urllib3-1.26.7       | 111 KB    | ########## | 100% \n",
      "\n",
      "flask-2.0.1          | 78 KB     |            |   0% \n",
      "flask-2.0.1          | 78 KB     | ####       |  41% \n",
      "flask-2.0.1          | 78 KB     | ########## | 100% \n",
      "\n",
      "ca-certificates-2021 | 116 KB    |            |   0% \n",
      "ca-certificates-2021 | 116 KB    | ##7        |  27% \n",
      "ca-certificates-2021 | 116 KB    | ########## | 100% \n",
      "ca-certificates-2021 | 116 KB    | ########## | 100% \n",
      "\n",
      "jupyterlab_server-2. | 46 KB     |            |   0% \n",
      "jupyterlab_server-2. | 46 KB     | ###5       |  35% \n",
      "jupyterlab_server-2. | 46 KB     | ########## | 100% \n",
      "\n",
      "pandas-1.3.3         | 8.4 MB    |            |   0% \n",
      "pandas-1.3.3         | 8.4 MB    |            |   0% \n",
      "pandas-1.3.3         | 8.4 MB    | 2          |   2% \n",
      "pandas-1.3.3         | 8.4 MB    | 3          |   4% \n",
      "pandas-1.3.3         | 8.4 MB    | 5          |   5% \n",
      "pandas-1.3.3         | 8.4 MB    | 7          |   7% \n",
      "pandas-1.3.3         | 8.4 MB    | 8          |   9% \n",
      "pandas-1.3.3         | 8.4 MB    | #          |  11% \n",
      "pandas-1.3.3         | 8.4 MB    | #2         |  13% \n",
      "pandas-1.3.3         | 8.4 MB    | #4         |  14% \n",
      "pandas-1.3.3         | 8.4 MB    | #6         |  16% \n",
      "pandas-1.3.3         | 8.4 MB    | #7         |  18% \n",
      "pandas-1.3.3         | 8.4 MB    | #9         |  20% \n",
      "pandas-1.3.3         | 8.4 MB    | ##1        |  21% \n",
      "pandas-1.3.3         | 8.4 MB    | ##3        |  23% \n",
      "pandas-1.3.3         | 8.4 MB    | ##5        |  25% \n",
      "pandas-1.3.3         | 8.4 MB    | ##6        |  27% \n",
      "pandas-1.3.3         | 8.4 MB    | ##8        |  29% \n",
      "pandas-1.3.3         | 8.4 MB    | ###        |  30% \n",
      "pandas-1.3.3         | 8.4 MB    | ###2       |  32% \n",
      "pandas-1.3.3         | 8.4 MB    | ###3       |  34% \n",
      "pandas-1.3.3         | 8.4 MB    | ###6       |  36% \n",
      "pandas-1.3.3         | 8.4 MB    | ###7       |  38% \n",
      "pandas-1.3.3         | 8.4 MB    | ###9       |  39% \n",
      "pandas-1.3.3         | 8.4 MB    | ####1      |  41% \n",
      "pandas-1.3.3         | 8.4 MB    | ####2      |  43% \n",
      "pandas-1.3.3         | 8.4 MB    | ####4      |  45% \n",
      "pandas-1.3.3         | 8.4 MB    | ####6      |  46% \n",
      "pandas-1.3.3         | 8.4 MB    | ####8      |  48% \n",
      "pandas-1.3.3         | 8.4 MB    | #####      |  50% \n",
      "pandas-1.3.3         | 8.4 MB    | #####1     |  52% \n",
      "pandas-1.3.3         | 8.4 MB    | #####3     |  54% \n",
      "pandas-1.3.3         | 8.4 MB    | #####5     |  55% \n",
      "pandas-1.3.3         | 8.4 MB    | #####7     |  57% \n",
      "pandas-1.3.3         | 8.4 MB    | #####8     |  59% \n",
      "pandas-1.3.3         | 8.4 MB    | ######     |  61% \n",
      "pandas-1.3.3         | 8.4 MB    | ######2    |  62% \n",
      "pandas-1.3.3         | 8.4 MB    | ######4    |  64% \n",
      "pandas-1.3.3         | 8.4 MB    | ######5    |  66% \n",
      "pandas-1.3.3         | 8.4 MB    | ######7    |  68% \n",
      "pandas-1.3.3         | 8.4 MB    | ######9    |  70% \n",
      "pandas-1.3.3         | 8.4 MB    | #######1   |  71% \n",
      "pandas-1.3.3         | 8.4 MB    | #######3   |  73% \n",
      "pandas-1.3.3         | 8.4 MB    | #######4   |  75% \n",
      "pandas-1.3.3         | 8.4 MB    | #######6   |  77% \n",
      "pandas-1.3.3         | 8.4 MB    | #######8   |  78% \n",
      "pandas-1.3.3         | 8.4 MB    | ########   |  80% \n",
      "pandas-1.3.3         | 8.4 MB    | ########1  |  82% \n",
      "pandas-1.3.3         | 8.4 MB    | ########3  |  84% \n",
      "pandas-1.3.3         | 8.4 MB    | ########5  |  86% \n",
      "pandas-1.3.3         | 8.4 MB    | ########7  |  87% \n",
      "pandas-1.3.3         | 8.4 MB    | ########9  |  89% \n",
      "pandas-1.3.3         | 8.4 MB    | #########  |  91% \n",
      "pandas-1.3.3         | 8.4 MB    | #########2 |  93% \n",
      "pandas-1.3.3         | 8.4 MB    | #########4 |  94% \n",
      "pandas-1.3.3         | 8.4 MB    | #########6 |  96% \n",
      "pandas-1.3.3         | 8.4 MB    | #########7 |  98% \n",
      "pandas-1.3.3         | 8.4 MB    | #########9 | 100% \n",
      "pandas-1.3.3         | 8.4 MB    | ########## | 100% \n",
      "Preparing transaction: ...working... done\n",
      "Verifying transaction: ...working... done\n",
      "Executing transaction: ...working... done\n"
     ]
    }
   ],
   "source": [
    "conda update --force-reinstall pandas"
   ]
  },
  {
   "cell_type": "markdown",
   "metadata": {},
   "source": [
    "<a id='wrangling'></a>\n",
    "## Data Wrangling\n",
    "\n",
    "\n",
    "\n",
    "\n"
   ]
  },
  {
   "cell_type": "code",
   "execution_count": 3,
   "metadata": {
    "scrolled": true
   },
   "outputs": [
    {
     "data": {
      "text/html": [
       "<div>\n",
       "<style scoped>\n",
       "    .dataframe tbody tr th:only-of-type {\n",
       "        vertical-align: middle;\n",
       "    }\n",
       "\n",
       "    .dataframe tbody tr th {\n",
       "        vertical-align: top;\n",
       "    }\n",
       "\n",
       "    .dataframe thead th {\n",
       "        text-align: right;\n",
       "    }\n",
       "</style>\n",
       "<table border=\"1\" class=\"dataframe\">\n",
       "  <thead>\n",
       "    <tr style=\"text-align: right;\">\n",
       "      <th></th>\n",
       "      <th>PatientId</th>\n",
       "      <th>AppointmentID</th>\n",
       "      <th>Gender</th>\n",
       "      <th>ScheduledDay</th>\n",
       "      <th>AppointmentDay</th>\n",
       "      <th>Age</th>\n",
       "      <th>Neighbourhood</th>\n",
       "      <th>Scholarship</th>\n",
       "      <th>Hipertension</th>\n",
       "      <th>Diabetes</th>\n",
       "      <th>Alcoholism</th>\n",
       "      <th>Handcap</th>\n",
       "      <th>SMS_received</th>\n",
       "      <th>No-show</th>\n",
       "    </tr>\n",
       "  </thead>\n",
       "  <tbody>\n",
       "    <tr>\n",
       "      <th>0</th>\n",
       "      <td>2.987250e+13</td>\n",
       "      <td>5642903</td>\n",
       "      <td>F</td>\n",
       "      <td>2016-04-29T18:38:08Z</td>\n",
       "      <td>2016-04-29T00:00:00Z</td>\n",
       "      <td>62</td>\n",
       "      <td>JARDIM DA PENHA</td>\n",
       "      <td>0</td>\n",
       "      <td>1</td>\n",
       "      <td>0</td>\n",
       "      <td>0</td>\n",
       "      <td>0</td>\n",
       "      <td>0</td>\n",
       "      <td>No</td>\n",
       "    </tr>\n",
       "    <tr>\n",
       "      <th>1</th>\n",
       "      <td>5.589978e+14</td>\n",
       "      <td>5642503</td>\n",
       "      <td>M</td>\n",
       "      <td>2016-04-29T16:08:27Z</td>\n",
       "      <td>2016-04-29T00:00:00Z</td>\n",
       "      <td>56</td>\n",
       "      <td>JARDIM DA PENHA</td>\n",
       "      <td>0</td>\n",
       "      <td>0</td>\n",
       "      <td>0</td>\n",
       "      <td>0</td>\n",
       "      <td>0</td>\n",
       "      <td>0</td>\n",
       "      <td>No</td>\n",
       "    </tr>\n",
       "    <tr>\n",
       "      <th>2</th>\n",
       "      <td>4.262962e+12</td>\n",
       "      <td>5642549</td>\n",
       "      <td>F</td>\n",
       "      <td>2016-04-29T16:19:04Z</td>\n",
       "      <td>2016-04-29T00:00:00Z</td>\n",
       "      <td>62</td>\n",
       "      <td>MATA DA PRAIA</td>\n",
       "      <td>0</td>\n",
       "      <td>0</td>\n",
       "      <td>0</td>\n",
       "      <td>0</td>\n",
       "      <td>0</td>\n",
       "      <td>0</td>\n",
       "      <td>No</td>\n",
       "    </tr>\n",
       "    <tr>\n",
       "      <th>3</th>\n",
       "      <td>8.679512e+11</td>\n",
       "      <td>5642828</td>\n",
       "      <td>F</td>\n",
       "      <td>2016-04-29T17:29:31Z</td>\n",
       "      <td>2016-04-29T00:00:00Z</td>\n",
       "      <td>8</td>\n",
       "      <td>PONTAL DE CAMBURI</td>\n",
       "      <td>0</td>\n",
       "      <td>0</td>\n",
       "      <td>0</td>\n",
       "      <td>0</td>\n",
       "      <td>0</td>\n",
       "      <td>0</td>\n",
       "      <td>No</td>\n",
       "    </tr>\n",
       "    <tr>\n",
       "      <th>4</th>\n",
       "      <td>8.841186e+12</td>\n",
       "      <td>5642494</td>\n",
       "      <td>F</td>\n",
       "      <td>2016-04-29T16:07:23Z</td>\n",
       "      <td>2016-04-29T00:00:00Z</td>\n",
       "      <td>56</td>\n",
       "      <td>JARDIM DA PENHA</td>\n",
       "      <td>0</td>\n",
       "      <td>1</td>\n",
       "      <td>1</td>\n",
       "      <td>0</td>\n",
       "      <td>0</td>\n",
       "      <td>0</td>\n",
       "      <td>No</td>\n",
       "    </tr>\n",
       "  </tbody>\n",
       "</table>\n",
       "</div>"
      ],
      "text/plain": [
       "      PatientId  AppointmentID Gender          ScheduledDay  \\\n",
       "0  2.987250e+13        5642903      F  2016-04-29T18:38:08Z   \n",
       "1  5.589978e+14        5642503      M  2016-04-29T16:08:27Z   \n",
       "2  4.262962e+12        5642549      F  2016-04-29T16:19:04Z   \n",
       "3  8.679512e+11        5642828      F  2016-04-29T17:29:31Z   \n",
       "4  8.841186e+12        5642494      F  2016-04-29T16:07:23Z   \n",
       "\n",
       "         AppointmentDay  Age      Neighbourhood  Scholarship  Hipertension  \\\n",
       "0  2016-04-29T00:00:00Z   62    JARDIM DA PENHA            0             1   \n",
       "1  2016-04-29T00:00:00Z   56    JARDIM DA PENHA            0             0   \n",
       "2  2016-04-29T00:00:00Z   62      MATA DA PRAIA            0             0   \n",
       "3  2016-04-29T00:00:00Z    8  PONTAL DE CAMBURI            0             0   \n",
       "4  2016-04-29T00:00:00Z   56    JARDIM DA PENHA            0             1   \n",
       "\n",
       "   Diabetes  Alcoholism  Handcap  SMS_received No-show  \n",
       "0         0           0        0             0      No  \n",
       "1         0           0        0             0      No  \n",
       "2         0           0        0             0      No  \n",
       "3         0           0        0             0      No  \n",
       "4         1           0        0             0      No  "
      ]
     },
     "execution_count": 3,
     "metadata": {},
     "output_type": "execute_result"
    }
   ],
   "source": [
    "df = pd.read_csv(r\"I:\\SQL\\Fwd\\Data analysis - Professinal\\Invistegate a dataset project\\KaggleV2-May-2016.csv\")\n",
    "df.head()"
   ]
  },
  {
   "cell_type": "code",
   "execution_count": 4,
   "metadata": {
    "scrolled": true
   },
   "outputs": [
    {
     "name": "stdout",
     "output_type": "stream",
     "text": [
      "<class 'pandas.core.frame.DataFrame'>\n",
      "RangeIndex: 110527 entries, 0 to 110526\n",
      "Data columns (total 14 columns):\n",
      " #   Column          Non-Null Count   Dtype  \n",
      "---  ------          --------------   -----  \n",
      " 0   PatientId       110527 non-null  float64\n",
      " 1   AppointmentID   110527 non-null  int64  \n",
      " 2   Gender          110527 non-null  object \n",
      " 3   ScheduledDay    110527 non-null  object \n",
      " 4   AppointmentDay  110527 non-null  object \n",
      " 5   Age             110527 non-null  int64  \n",
      " 6   Neighbourhood   110527 non-null  object \n",
      " 7   Scholarship     110527 non-null  int64  \n",
      " 8   Hipertension    110527 non-null  int64  \n",
      " 9   Diabetes        110527 non-null  int64  \n",
      " 10  Alcoholism      110527 non-null  int64  \n",
      " 11  Handcap         110527 non-null  int64  \n",
      " 12  SMS_received    110527 non-null  int64  \n",
      " 13  No-show         110527 non-null  object \n",
      "dtypes: float64(1), int64(8), object(5)\n",
      "memory usage: 11.8+ MB\n"
     ]
    }
   ],
   "source": [
    "df.info()"
   ]
  },
  {
   "cell_type": "code",
   "execution_count": 5,
   "metadata": {},
   "outputs": [
    {
     "data": {
      "text/html": [
       "<div>\n",
       "<style scoped>\n",
       "    .dataframe tbody tr th:only-of-type {\n",
       "        vertical-align: middle;\n",
       "    }\n",
       "\n",
       "    .dataframe tbody tr th {\n",
       "        vertical-align: top;\n",
       "    }\n",
       "\n",
       "    .dataframe thead th {\n",
       "        text-align: right;\n",
       "    }\n",
       "</style>\n",
       "<table border=\"1\" class=\"dataframe\">\n",
       "  <thead>\n",
       "    <tr style=\"text-align: right;\">\n",
       "      <th></th>\n",
       "      <th>PatientId</th>\n",
       "      <th>AppointmentID</th>\n",
       "      <th>Age</th>\n",
       "      <th>Scholarship</th>\n",
       "      <th>Hipertension</th>\n",
       "      <th>Diabetes</th>\n",
       "      <th>Alcoholism</th>\n",
       "      <th>Handcap</th>\n",
       "      <th>SMS_received</th>\n",
       "    </tr>\n",
       "  </thead>\n",
       "  <tbody>\n",
       "    <tr>\n",
       "      <th>count</th>\n",
       "      <td>1.105270e+05</td>\n",
       "      <td>1.105270e+05</td>\n",
       "      <td>110527.000000</td>\n",
       "      <td>110527.000000</td>\n",
       "      <td>110527.000000</td>\n",
       "      <td>110527.000000</td>\n",
       "      <td>110527.000000</td>\n",
       "      <td>110527.000000</td>\n",
       "      <td>110527.000000</td>\n",
       "    </tr>\n",
       "    <tr>\n",
       "      <th>mean</th>\n",
       "      <td>1.474963e+14</td>\n",
       "      <td>5.675305e+06</td>\n",
       "      <td>37.088874</td>\n",
       "      <td>0.098266</td>\n",
       "      <td>0.197246</td>\n",
       "      <td>0.071865</td>\n",
       "      <td>0.030400</td>\n",
       "      <td>0.022248</td>\n",
       "      <td>0.321026</td>\n",
       "    </tr>\n",
       "    <tr>\n",
       "      <th>std</th>\n",
       "      <td>2.560949e+14</td>\n",
       "      <td>7.129575e+04</td>\n",
       "      <td>23.110205</td>\n",
       "      <td>0.297675</td>\n",
       "      <td>0.397921</td>\n",
       "      <td>0.258265</td>\n",
       "      <td>0.171686</td>\n",
       "      <td>0.161543</td>\n",
       "      <td>0.466873</td>\n",
       "    </tr>\n",
       "    <tr>\n",
       "      <th>min</th>\n",
       "      <td>3.921784e+04</td>\n",
       "      <td>5.030230e+06</td>\n",
       "      <td>-1.000000</td>\n",
       "      <td>0.000000</td>\n",
       "      <td>0.000000</td>\n",
       "      <td>0.000000</td>\n",
       "      <td>0.000000</td>\n",
       "      <td>0.000000</td>\n",
       "      <td>0.000000</td>\n",
       "    </tr>\n",
       "    <tr>\n",
       "      <th>25%</th>\n",
       "      <td>4.172614e+12</td>\n",
       "      <td>5.640286e+06</td>\n",
       "      <td>18.000000</td>\n",
       "      <td>0.000000</td>\n",
       "      <td>0.000000</td>\n",
       "      <td>0.000000</td>\n",
       "      <td>0.000000</td>\n",
       "      <td>0.000000</td>\n",
       "      <td>0.000000</td>\n",
       "    </tr>\n",
       "    <tr>\n",
       "      <th>50%</th>\n",
       "      <td>3.173184e+13</td>\n",
       "      <td>5.680573e+06</td>\n",
       "      <td>37.000000</td>\n",
       "      <td>0.000000</td>\n",
       "      <td>0.000000</td>\n",
       "      <td>0.000000</td>\n",
       "      <td>0.000000</td>\n",
       "      <td>0.000000</td>\n",
       "      <td>0.000000</td>\n",
       "    </tr>\n",
       "    <tr>\n",
       "      <th>75%</th>\n",
       "      <td>9.439172e+13</td>\n",
       "      <td>5.725524e+06</td>\n",
       "      <td>55.000000</td>\n",
       "      <td>0.000000</td>\n",
       "      <td>0.000000</td>\n",
       "      <td>0.000000</td>\n",
       "      <td>0.000000</td>\n",
       "      <td>0.000000</td>\n",
       "      <td>1.000000</td>\n",
       "    </tr>\n",
       "    <tr>\n",
       "      <th>max</th>\n",
       "      <td>9.999816e+14</td>\n",
       "      <td>5.790484e+06</td>\n",
       "      <td>115.000000</td>\n",
       "      <td>1.000000</td>\n",
       "      <td>1.000000</td>\n",
       "      <td>1.000000</td>\n",
       "      <td>1.000000</td>\n",
       "      <td>4.000000</td>\n",
       "      <td>1.000000</td>\n",
       "    </tr>\n",
       "  </tbody>\n",
       "</table>\n",
       "</div>"
      ],
      "text/plain": [
       "          PatientId  AppointmentID            Age    Scholarship  \\\n",
       "count  1.105270e+05   1.105270e+05  110527.000000  110527.000000   \n",
       "mean   1.474963e+14   5.675305e+06      37.088874       0.098266   \n",
       "std    2.560949e+14   7.129575e+04      23.110205       0.297675   \n",
       "min    3.921784e+04   5.030230e+06      -1.000000       0.000000   \n",
       "25%    4.172614e+12   5.640286e+06      18.000000       0.000000   \n",
       "50%    3.173184e+13   5.680573e+06      37.000000       0.000000   \n",
       "75%    9.439172e+13   5.725524e+06      55.000000       0.000000   \n",
       "max    9.999816e+14   5.790484e+06     115.000000       1.000000   \n",
       "\n",
       "        Hipertension       Diabetes     Alcoholism        Handcap  \\\n",
       "count  110527.000000  110527.000000  110527.000000  110527.000000   \n",
       "mean        0.197246       0.071865       0.030400       0.022248   \n",
       "std         0.397921       0.258265       0.171686       0.161543   \n",
       "min         0.000000       0.000000       0.000000       0.000000   \n",
       "25%         0.000000       0.000000       0.000000       0.000000   \n",
       "50%         0.000000       0.000000       0.000000       0.000000   \n",
       "75%         0.000000       0.000000       0.000000       0.000000   \n",
       "max         1.000000       1.000000       1.000000       4.000000   \n",
       "\n",
       "        SMS_received  \n",
       "count  110527.000000  \n",
       "mean        0.321026  \n",
       "std         0.466873  \n",
       "min         0.000000  \n",
       "25%         0.000000  \n",
       "50%         0.000000  \n",
       "75%         1.000000  \n",
       "max         1.000000  "
      ]
     },
     "execution_count": 5,
     "metadata": {},
     "output_type": "execute_result"
    }
   ],
   "source": [
    "df.describe()"
   ]
  },
  {
   "cell_type": "code",
   "execution_count": 6,
   "metadata": {},
   "outputs": [
    {
     "data": {
      "text/plain": [
       "(0, 0)"
      ]
     },
     "execution_count": 6,
     "metadata": {},
     "output_type": "execute_result"
    }
   ],
   "source": [
    "#checking for null values and dulicate rows\n",
    "df.isnull().sum().sum(), df.duplicated().sum()"
   ]
  },
  {
   "cell_type": "markdown",
   "metadata": {},
   "source": [
    "There are no null values in all columns.\n",
    "There are no duplicated rows in the data.\n",
    "Data is clean"
   ]
  },
  {
   "cell_type": "markdown",
   "metadata": {},
   "source": [
    "\n",
    "### Data Cleaning\n",
    "\n",
    " "
   ]
  },
  {
   "cell_type": "markdown",
   "metadata": {},
   "source": [
    "### there are two columns (scheduledday, appointmentday) have wrong data type  so we should convert from object into datetime"
   ]
  },
  {
   "cell_type": "code",
   "execution_count": 47,
   "metadata": {},
   "outputs": [],
   "source": [
    "# using datetime function to convert from object into datetime\n",
    "df['ScheduledDay'] = pd.to_datetime(df['ScheduledDay'])\n",
    "df['AppointmentDay'] = pd.to_datetime(df['AppointmentDay'])"
   ]
  },
  {
   "cell_type": "markdown",
   "metadata": {},
   "source": [
    "### there is a value in age column less than zero. It doesn't make sense so we should drop it"
   ]
  },
  {
   "cell_type": "code",
   "execution_count": 8,
   "metadata": {},
   "outputs": [],
   "source": [
    "# delete age less than zero\n",
    "i = df[(df.Age < 0)].index\n",
    "df.drop(i, inplace =  True)"
   ]
  },
  {
   "cell_type": "markdown",
   "metadata": {},
   "source": [
    "### there are wrong names for columns. I will fix it "
   ]
  },
  {
   "cell_type": "code",
   "execution_count": 5,
   "metadata": {},
   "outputs": [
    {
     "data": {
      "text/html": [
       "<div>\n",
       "<style scoped>\n",
       "    .dataframe tbody tr th:only-of-type {\n",
       "        vertical-align: middle;\n",
       "    }\n",
       "\n",
       "    .dataframe tbody tr th {\n",
       "        vertical-align: top;\n",
       "    }\n",
       "\n",
       "    .dataframe thead th {\n",
       "        text-align: right;\n",
       "    }\n",
       "</style>\n",
       "<table border=\"1\" class=\"dataframe\">\n",
       "  <thead>\n",
       "    <tr style=\"text-align: right;\">\n",
       "      <th></th>\n",
       "      <th>PatientId</th>\n",
       "      <th>AppointmentID</th>\n",
       "      <th>Gender</th>\n",
       "      <th>ScheduledDay</th>\n",
       "      <th>AppointmentDay</th>\n",
       "      <th>Age</th>\n",
       "      <th>Neighbourhood</th>\n",
       "      <th>Scholarship</th>\n",
       "      <th>Hypertension</th>\n",
       "      <th>Diabetes</th>\n",
       "      <th>Alcoholism</th>\n",
       "      <th>Handicap</th>\n",
       "      <th>SMS_received</th>\n",
       "      <th>No_show</th>\n",
       "    </tr>\n",
       "  </thead>\n",
       "  <tbody>\n",
       "    <tr>\n",
       "      <th>0</th>\n",
       "      <td>2.987250e+13</td>\n",
       "      <td>5642903</td>\n",
       "      <td>F</td>\n",
       "      <td>2016-04-29T18:38:08Z</td>\n",
       "      <td>2016-04-29T00:00:00Z</td>\n",
       "      <td>62</td>\n",
       "      <td>JARDIM DA PENHA</td>\n",
       "      <td>0</td>\n",
       "      <td>1</td>\n",
       "      <td>0</td>\n",
       "      <td>0</td>\n",
       "      <td>0</td>\n",
       "      <td>0</td>\n",
       "      <td>No</td>\n",
       "    </tr>\n",
       "    <tr>\n",
       "      <th>1</th>\n",
       "      <td>5.589978e+14</td>\n",
       "      <td>5642503</td>\n",
       "      <td>M</td>\n",
       "      <td>2016-04-29T16:08:27Z</td>\n",
       "      <td>2016-04-29T00:00:00Z</td>\n",
       "      <td>56</td>\n",
       "      <td>JARDIM DA PENHA</td>\n",
       "      <td>0</td>\n",
       "      <td>0</td>\n",
       "      <td>0</td>\n",
       "      <td>0</td>\n",
       "      <td>0</td>\n",
       "      <td>0</td>\n",
       "      <td>No</td>\n",
       "    </tr>\n",
       "  </tbody>\n",
       "</table>\n",
       "</div>"
      ],
      "text/plain": [
       "      PatientId  AppointmentID Gender          ScheduledDay  \\\n",
       "0  2.987250e+13        5642903      F  2016-04-29T18:38:08Z   \n",
       "1  5.589978e+14        5642503      M  2016-04-29T16:08:27Z   \n",
       "\n",
       "         AppointmentDay  Age    Neighbourhood  Scholarship  Hypertension  \\\n",
       "0  2016-04-29T00:00:00Z   62  JARDIM DA PENHA            0             1   \n",
       "1  2016-04-29T00:00:00Z   56  JARDIM DA PENHA            0             0   \n",
       "\n",
       "   Diabetes  Alcoholism  Handicap  SMS_received No_show  \n",
       "0         0           0         0             0      No  \n",
       "1         0           0         0             0      No  "
      ]
     },
     "execution_count": 5,
     "metadata": {},
     "output_type": "execute_result"
    }
   ],
   "source": [
    "#fix spelling of some columns \n",
    "df.rename(columns = {'Hipertension':'Hypertension', 'Handcap':'Handicap', 'No-show':'No_show'}, inplace = True)\n",
    "\n",
    "#confirm changes\n",
    "df.head(2)"
   ]
  },
  {
   "cell_type": "markdown",
   "metadata": {},
   "source": [
    "<a id='eda'></a>\n",
    "## Exploratory Data Analysis\n",
    "\n",
    "\n",
    "\n",
    "\n",
    "\n",
    "\n",
    "\n",
    "### Question_1: What is the number of female and male patients ?"
   ]
  },
  {
   "cell_type": "code",
   "execution_count": 6,
   "metadata": {
    "scrolled": false
   },
   "outputs": [
    {
     "data": {
      "image/png": "[encoded data removed]",
      "text/plain": [
       "<Figure size 432x288 with 1 Axes>"
      ]
     },
     "metadata": {
      "needs_background": "light"
     },
     "output_type": "display_data"
    }
   ],
   "source": [
    "f_counts = df[\"Gender\"].value_counts()[0]\n",
    "m_counst = df[\"Gender\"].value_counts()[1]\n",
    "locations = ['female', 'male']\n",
    "counts = (f_counts, m_counst)\n",
    "plt.bar(locations, counts, color= ['red', 'blue'], width = 0.4)\n",
    "plt.title(\"Male vs Female\")\n",
    "plt.xlabel(\"gender of patient\")\n",
    "plt.ylabel('number of patients')\n",
    "plt.show()\n"
   ]
  },
  {
   "cell_type": "markdown",
   "metadata": {},
   "source": [
    "We can notice that number of female patients is larger than number of male patients "
   ]
  },
  {
   "cell_type": "markdown",
   "metadata": {},
   "source": [
    "### Question_2  :How is age affecting the patient's absence ?"
   ]
  },
  {
   "cell_type": "code",
   "execution_count": 9,
   "metadata": {},
   "outputs": [
    {
     "data": {
      "image/png": "[encoded data removed]",
      "text/plain": [
       "<Figure size 432x288 with 1 Axes>"
      ]
     },
     "metadata": {
      "needs_background": "light"
     },
     "output_type": "display_data"
    },
    {
     "name": "stdout",
     "output_type": "stream",
     "text": [
      "showed up Appointments Mean Age:37.79\n",
      "abesnt Appointments Mean Age:34.32\n"
     ]
    }
   ],
   "source": [
    "showup = (df.No_show == 'No')\n",
    "absent = (df.No_show == 'Yes')\n",
    "\n",
    "df[showup].Age.plot.hist()\n",
    "df[absent].Age.plot.hist()\n",
    "plt.legend(['showed_up', 'absent'])\n",
    "plt.show()\n",
    "print('showed up Appointments Mean Age:{:.2f}'.format(df[showup].Age.mean()))\n",
    "print('abesnt Appointments Mean Age:{:.2f}'.format(df[absent].Age.mean()))"
   ]
  },
  {
   "cell_type": "code",
   "execution_count": 10,
   "metadata": {},
   "outputs": [
    {
     "data": {
      "image/png": "[encoded data removed]",
      "text/plain": [
       "<Figure size 432x288 with 1 Axes>"
      ]
     },
     "metadata": {
      "needs_background": "light"
     },
     "output_type": "display_data"
    }
   ],
   "source": [
    "#age distribution\n",
    "sns.boxplot(x=df.No_show, y=df.Age)\n",
    "plt.show()"
   ]
  },
  {
   "cell_type": "markdown",
   "metadata": {},
   "source": [
    "The two graphs above shows that age from (0 to 5) and (25 to 40) and (45 to 60) are the most patients showed up. also it's obvious that the graph skewed to the right"
   ]
  },
  {
   "cell_type": "markdown",
   "metadata": {},
   "source": [
    "### Question_3 :How does each month compare to the others in terms of no-show appointment?"
   ]
  },
  {
   "cell_type": "code",
   "execution_count": 52,
   "metadata": {},
   "outputs": [],
   "source": [
    "df['MonthOfYear'] = df.AppointmentDay.dt.month_name(locale = 'English')"
   ]
  },
  {
   "cell_type": "code",
   "execution_count": 43,
   "metadata": {},
   "outputs": [
    {
     "data": {
      "text/html": [
       "<div>\n",
       "<style scoped>\n",
       "    .dataframe tbody tr th:only-of-type {\n",
       "        vertical-align: middle;\n",
       "    }\n",
       "\n",
       "    .dataframe tbody tr th {\n",
       "        vertical-align: top;\n",
       "    }\n",
       "\n",
       "    .dataframe thead th {\n",
       "        text-align: right;\n",
       "    }\n",
       "</style>\n",
       "<table border=\"1\" class=\"dataframe\">\n",
       "  <thead>\n",
       "    <tr style=\"text-align: right;\">\n",
       "      <th></th>\n",
       "      <th>Number of Appointments</th>\n",
       "    </tr>\n",
       "  </thead>\n",
       "  <tbody>\n",
       "    <tr>\n",
       "      <th>May</th>\n",
       "      <td>80841</td>\n",
       "    </tr>\n",
       "    <tr>\n",
       "      <th>June</th>\n",
       "      <td>26451</td>\n",
       "    </tr>\n",
       "    <tr>\n",
       "      <th>April</th>\n",
       "      <td>3235</td>\n",
       "    </tr>\n",
       "  </tbody>\n",
       "</table>\n",
       "</div>"
      ],
      "text/plain": [
       "       Number of Appointments\n",
       "May                     80841\n",
       "June                    26451\n",
       "April                    3235"
      ]
     },
     "execution_count": 43,
     "metadata": {},
     "output_type": "execute_result"
    }
   ],
   "source": [
    "df.MonthOfYear.value_counts().to_frame(name='Number of Appointments')"
   ]
  },
  {
   "cell_type": "code",
   "execution_count": 41,
   "metadata": {},
   "outputs": [
    {
     "data": {
      "image/png": "[encoded data removed]",
      "text/plain": [
       "<Figure size 432x288 with 1 Axes>"
      ]
     },
     "metadata": {
      "needs_background": "light"
     },
     "output_type": "display_data"
    }
   ],
   "source": [
    "x = df.groupby(['MonthOfYear'])['No_show'].value_counts()\n",
    "location = ['April', 'June', 'may']\n",
    "heights = (x[1], x[3], x[5])\n",
    "plt.bar(location, heights, width = 0.4, color = ['skyblue', 'blue', 'brown'])\n",
    "plt.xlabel(\"Months\")\n",
    "plt.ylabel(\"Number of no-show patients\")\n",
    "plt.title(\"Month with no-show appointment\")\n",
    "plt.show()\n"
   ]
  },
  {
   "cell_type": "markdown",
   "metadata": {},
   "source": [
    "Most of the patients didn't attend in the month of may unlike april is much less"
   ]
  },
  {
   "cell_type": "markdown",
   "metadata": {},
   "source": [
    "### Question_4 :What is the proportion of show up and no show patients ?"
   ]
  },
  {
   "cell_type": "code",
   "execution_count": 12,
   "metadata": {},
   "outputs": [],
   "source": [
    "#total patients\n",
    "Total = show_up.sum() + absent.sum()\n",
    "\n",
    "#proportion of show_up patients\n",
    "showup_proportion =float(show_up.sum() / Total) * 100 \n",
    "showup_proportion = round(showup_proportion, 1)\n",
    "\n",
    "#proportion of absent patients\n",
    "absent_proportion = float(absent.sum() / Total) * 100\n",
    "absent_proportion = round(absent_proportion, 1)"
   ]
  },
  {
   "cell_type": "code",
   "execution_count": 13,
   "metadata": {},
   "outputs": [
    {
     "data": {
      "image/png": "[encoded data removed]",
      "text/plain": [
       "<Figure size 432x288 with 1 Axes>"
      ]
     },
     "metadata": {},
     "output_type": "display_data"
    }
   ],
   "source": [
    "labels = ['show_up', 'Absent']\n",
    "sizes = [showup_proportion, absent_proportion]\n",
    "explode = (0, 0.1)\n",
    "fig1, ax1 = plt.subplots()\n",
    "ax1.pie(sizes, explode=explode, labels=labels, autopct='%1.1f%%',\n",
    "        shadow=True, startangle=90)\n",
    "ax1.axis('equal')  # Equal aspect ratio ensures that pie is drawn as a circle.\n",
    "\n",
    "plt.show()\n"
   ]
  },
  {
   "cell_type": "markdown",
   "metadata": {},
   "source": [
    "### Question_5 :How many patients attended and didn't attend according to the gender ?"
   ]
  },
  {
   "cell_type": "code",
   "execution_count": 14,
   "metadata": {},
   "outputs": [
    {
     "data": {
      "text/plain": [
       "No_show\n",
       "No     57245\n",
       "Yes    14594\n",
       "Name: No_show, dtype: int64"
      ]
     },
     "execution_count": 14,
     "metadata": {},
     "output_type": "execute_result"
    }
   ],
   "source": [
    "counts = df.groupby(['Gender'])['No_show'].value_counts()\n",
    "f = counts.F\n",
    "m = counts.M\n",
    "f"
   ]
  },
  {
   "cell_type": "code",
   "execution_count": 15,
   "metadata": {},
   "outputs": [],
   "source": [
    "ind = np.arange(len(m))  # the x locations for the groups\n",
    "width = 0.35  "
   ]
  },
  {
   "cell_type": "code",
   "execution_count": 16,
   "metadata": {
    "scrolled": true
   },
   "outputs": [
    {
     "data": {
      "text/plain": [
       "<matplotlib.legend.Legend at 0x1897451a9c8>"
      ]
     },
     "execution_count": 16,
     "metadata": {},
     "output_type": "execute_result"
    },
    {
     "data": {
      "image/png": "[encoded data removed]",
      "text/plain": [
       "<Figure size 432x288 with 1 Axes>"
      ]
     },
     "metadata": {
      "needs_background": "light"
     },
     "output_type": "display_data"
    }
   ],
   "source": [
    "# plot bars\n",
    "red_bars = plt.bar(ind, f, width, color='r', alpha=.7, label='show_up')\n",
    "blue_bars = plt.bar(ind + width, m, width, color='b', alpha=.7, label='absent')\n",
    "\n",
    "# title and labels\n",
    "plt.ylabel('all patients')\n",
    "plt.xlabel('gender')\n",
    "plt.title('Distribution of Gender')\n",
    "locations = ind + width / 2  # xtick locations\n",
    "labels = ['Female', 'Male']  # xtick labels\n",
    "plt.xticks(locations, labels)\n",
    "\n",
    "# legend\n",
    "plt.legend()"
   ]
  },
  {
   "cell_type": "markdown",
   "metadata": {},
   "source": [
    "We can notice that number of females that attended and didn't attend the appointment is larger than number of males"
   ]
  },
  {
   "cell_type": "markdown",
   "metadata": {},
   "source": [
    "### Question_6 :Compare between the patient who show up and didn’t show the appointment and whether or not the patient is enrolled in the scholarship ?"
   ]
  },
  {
   "cell_type": "code",
   "execution_count": 39,
   "metadata": {
    "scrolled": false
   },
   "outputs": [
    {
     "data": {
      "image/png": "[encoded data removed]",
      "text/plain": [
       "<Figure size 432x288 with 1 Axes>"
      ]
     },
     "metadata": {
      "needs_background": "light"
     },
     "output_type": "display_data"
    }
   ],
   "source": [
    "count = df.groupby(['Scholarship'])['No_show'].count()\n",
    "locations = ['Unenrolled', 'Enrolled']\n",
    "hights = (count[0], count[1])\n",
    "plt.bar(locations, hights, color = ['skyblue', 'brown'], width =0.4)\n",
    "plt.xlabel(\"Scholarship\")\n",
    "plt.ylabel(\"Number of patients\")\n",
    "plt.title(\"Paients Enrolled and unenrolled in scholarship\")\n",
    "plt.show()"
   ]
  },
  {
   "cell_type": "markdown",
   "metadata": {},
   "source": [
    "From the bar chart we can see that the patients who unenrolled in the scholarship whether showed up or absent are much greater than who enrolled in the scholarship"
   ]
  },
  {
   "cell_type": "code",
   "execution_count": 56,
   "metadata": {
    "scrolled": true
   },
   "outputs": [
    {
     "data": {
      "text/plain": [
       "Text(0.5, 1.0, \"Patients didn't enroll in the scholarship\")"
      ]
     },
     "execution_count": 56,
     "metadata": {},
     "output_type": "execute_result"
    },
    {
     "data": {
      "image/png": "[encoded data removed]",
      "text/plain": [
       "<Figure size 432x288 with 1 Axes>"
      ]
     },
     "metadata": {
      "needs_background": "light"
     },
     "output_type": "display_data"
    }
   ],
   "source": [
    "number = df.groupby(['Scholarship'])['No_show'].value_counts()\n",
    "locations = ['show_up', 'absent']\n",
    "heights = (number[0][0], number[0][1])\n",
    "plt.bar(locations, heights, color = ['green', 'blue'], width = 0.4)\n",
    "plt.xlabel(\"Patients\")\n",
    "plt.ylabel(\"number of patients\")\n",
    "plt.title(\"Patients didn't enroll in the scholarship\")"
   ]
  },
  {
   "cell_type": "markdown",
   "metadata": {},
   "source": [
    "Here illustrates that patients that didn't enroll in the scholarship and showed up are larger than who didn't enroll and absent"
   ]
  },
  {
   "cell_type": "code",
   "execution_count": 55,
   "metadata": {},
   "outputs": [
    {
     "data": {
      "text/plain": [
       "Text(0.5, 1.0, 'Patients enrolled in the scholarship')"
      ]
     },
     "execution_count": 55,
     "metadata": {},
     "output_type": "execute_result"
    },
    {
     "data": {
      "image/png": "[encoded data removed]",
      "text/plain": [
       "<Figure size 432x288 with 1 Axes>"
      ]
     },
     "metadata": {
      "needs_background": "light"
     },
     "output_type": "display_data"
    }
   ],
   "source": [
    "number = df.groupby(['Scholarship'])['No_show'].value_counts()\n",
    "locations = ['show_up', 'absent']\n",
    "heights = (number[1][0], number[1][1])\n",
    "plt.bar(locations, heights, color = ['green', 'blue'], width = 0.4)\n",
    "plt.xlabel(\"Patients\")\n",
    "plt.ylabel(\"number of patients\")\n",
    "plt.title(\"Patients enrolled in the scholarship\")"
   ]
  },
  {
   "cell_type": "markdown",
   "metadata": {},
   "source": [
    "Here, is the same as previous but associated with the patients who enrolled in the scholarship"
   ]
  },
  {
   "cell_type": "markdown",
   "metadata": {},
   "source": [
    "### Question_7 :How many patients showed_up and didn't show_up according to the received SMS ?"
   ]
  },
  {
   "cell_type": "code",
   "execution_count": 61,
   "metadata": {},
   "outputs": [
    {
     "data": {
      "image/png": "[encoded data removed]",
      "text/plain": [
       "<Figure size 432x288 with 1 Axes>"
      ]
     },
     "metadata": {
      "needs_background": "light"
     },
     "output_type": "display_data"
    }
   ],
   "source": [
    "SMS = df.groupby(['SMS_received'])['No_show'].value_counts()\n",
    "locations = ['Not Received', 'Recevied']\n",
    "heights = (SMS[0][0], SMS[1][0])\n",
    "plt.bar(locations, heights, color = ['skyblue', 'brown'], width = 0.4)\n",
    "plt.xlabel(\"SMS\")\n",
    "plt.ylabel(\"number of show_up patients\")\n",
    "plt.title(\"patients attended appointment\")\n",
    "plt.show()"
   ]
  },
  {
   "cell_type": "markdown",
   "metadata": {},
   "source": [
    "we can see here that the patients who didn't recieve SMS and showed up are larger than who recieved SMS and showed up as well \n",
    "and it doesn't make sense as the patients that get a remainder should be the most about showing up "
   ]
  },
  {
   "cell_type": "code",
   "execution_count": 60,
   "metadata": {},
   "outputs": [
    {
     "data": {
      "image/png": "[encoded data removed]",
      "text/plain": [
       "<Figure size 432x288 with 1 Axes>"
      ]
     },
     "metadata": {
      "needs_background": "light"
     },
     "output_type": "display_data"
    }
   ],
   "source": [
    "SMS = df.groupby(['SMS_received'])['No_show'].value_counts()\n",
    "locations = ['Not Received', 'Recevied']\n",
    "heights = (SMS[0][1], SMS[1][1])\n",
    "plt.bar(locations, heights, color = ['skyblue', 'brown'], width = 0.4)\n",
    "plt.xlabel(\"SMS\")\n",
    "plt.ylabel(\"number of absent patients\")\n",
    "plt.title(\"paients didn't attend appointment\")\n",
    "plt.show()"
   ]
  },
  {
   "cell_type": "markdown",
   "metadata": {},
   "source": [
    "Here, as the same as previous but with the patints who didn't attned the appoinment"
   ]
  },
  {
   "cell_type": "markdown",
   "metadata": {},
   "source": [
    "<a id='conclusions'></a>\n",
    "## Conclusions\n",
    "\n",
    "At the end, after analyzing the data we can see that there is one dependent variable (NO_show) and many independent variables such as gender and how it clear to see that number of female patients is greater than the male patients or let me say that they care about themselves much more than males.\n",
    "Also the scholarship is something strange that in this welfare and didn't attend the appointment.\n",
    "Moreover, the patients that received the SMS and showed_up should be greater than who didn't recieved but the opposit was occured.\n",
    "Finally We can say that number of showed_up patients is greater than who didn't show and it's a great thing that people care about to be in a good health.\n",
    "we can use the data after processing it in machine learning model to predict if the patients in the future will attend the appointment or not according to the features.\n",
    "\n",
    "\n",
    "\n",
    "\n",
    "### Limitations\n",
    "I think that data needs more details to be analyzed more better \n",
    "\n",
    "\n",
    "\n"
   ]
  }
 ],
 "metadata": {
  "kernelspec": {
   "display_name": "Python 3 (ipykernel)",
   "language": "python",
   "name": "python3"
  },
  "language_info": {
   "codemirror_mode": {
    "name": "ipython",
    "version": 3
   },
   "file_extension": ".py",
   "mimetype": "text/x-python",
   "name": "python",
   "nbconvert_exporter": "python",
   "pygments_lexer": "ipython3",
   "version": "3.7.9"
  }
 },
 "nbformat": 4,
 "nbformat_minor": 2
}
